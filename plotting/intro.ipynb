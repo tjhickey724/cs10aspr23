{
 "cells": [
  {
   "cell_type": "markdown",
   "id": "bdb834cd-2546-4139-b904-a37080f96058",
   "metadata": {
    "tags": []
   },
   "source": [
    "# Python Plotting demo\n",
    "This is our demo you need\n",
    "* python\n",
    "* matplotlib\n",
    "* numpy\n",
    "\n",
    "to get it to work.\n",
    "Use triple backquotes (under tilde ~) to quote programs ..\n",
    "``` python\n",
    "print(\"hello world\")\n",
    "```\n"
   ]
  },
  {
   "cell_type": "code",
   "execution_count": 2,
   "id": "30baef00-3581-4837-bd70-305d5503876d",
   "metadata": {
    "tags": []
   },
   "outputs": [
    {
     "name": "stdout",
     "output_type": "stream",
     "text": [
      "hello world\n"
     ]
    }
   ],
   "source": [
    "print('hello world')"
   ]
  },
  {
   "cell_type": "markdown",
   "id": "2316c30a-b646-47ce-a1f1-b510d0a2dc41",
   "metadata": {},
   "source": [
    "# installing and running Jupyter\n",
    "To install use these commands\n",
    "``` bash\n",
    "pip3 install jupyterlab\n",
    "```\n",
    "which you run in a terminal. You use pip on windows rather than pip3\n",
    "Then run\n",
    "``` bash\n",
    "jupyter-lab\n",
    "```\n",
    "in some terminal in a folder."
   ]
  },
  {
   "cell_type": "markdown",
   "id": "70183255-68f6-4c42-98e2-7c05c59811a2",
   "metadata": {},
   "source": [
    "# Plotting\n",
    "To plot you need to install matplotlib and numpy as follows\n",
    "``` bash\n",
    "pip3 install matplotlib\n",
    "pip3 install numpy\n",
    "```\n",
    "then close your jupyter window and restart jupyter...."
   ]
  },
  {
   "cell_type": "code",
   "execution_count": null,
   "id": "5a24cfed-44d4-4de1-b1f9-df787a917a00",
   "metadata": {},
   "outputs": [],
   "source": []
  }
 ],
 "metadata": {
  "kernelspec": {
   "display_name": "Python 3 (ipykernel)",
   "language": "python",
   "name": "python3"
  },
  "language_info": {
   "codemirror_mode": {
    "name": "ipython",
    "version": 3
   },
   "file_extension": ".py",
   "mimetype": "text/x-python",
   "name": "python",
   "nbconvert_exporter": "python",
   "pygments_lexer": "ipython3",
   "version": "3.10.7"
  }
 },
 "nbformat": 4,
 "nbformat_minor": 5
}
