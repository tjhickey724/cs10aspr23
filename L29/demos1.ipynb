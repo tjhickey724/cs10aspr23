{
 "cells": [
  {
   "cell_type": "code",
   "execution_count": null,
   "id": "d31a311b-8a7b-457d-acdb-2fad5ed47144",
   "metadata": {},
   "outputs": [],
   "source": []
  },
  {
   "cell_type": "code",
   "execution_count": 1,
   "id": "a4d93697-2393-48f7-b76a-e54b6805771a",
   "metadata": {
    "tags": []
   },
   "outputs": [],
   "source": [
    "x = [5,7,11,29,55,98]\n"
   ]
  },
  {
   "cell_type": "code",
   "execution_count": 8,
   "id": "cbbfe0d9-e12e-4edd-a469-769868822ff0",
   "metadata": {
    "tags": []
   },
   "outputs": [
    {
     "data": {
      "text/plain": [
       "4"
      ]
     },
     "execution_count": 8,
     "metadata": {},
     "output_type": "execute_result"
    }
   ],
   "source": [
    "x.index(55)"
   ]
  },
  {
   "cell_type": "code",
   "execution_count": 9,
   "id": "1d03cf2c-53df-457f-b5e6-7959a2fd26ea",
   "metadata": {
    "tags": []
   },
   "outputs": [
    {
     "data": {
      "text/plain": [
       "2"
      ]
     },
     "execution_count": 9,
     "metadata": {},
     "output_type": "execute_result"
    }
   ],
   "source": [
    "def sequentialsearch(val, vals):\n",
    "    for i in range(len(vals)):\n",
    "        if val==vals[i]:\n",
    "            return i\n",
    "    return -1\n",
    "\n",
    "sequentialsearch(11,x)\n",
    "                "
   ]
  },
  {
   "cell_type": "code",
   "execution_count": null,
   "id": "6ec940e7-3a33-45a6-bd8d-afdc366da459",
   "metadata": {},
   "outputs": [],
   "source": []
  }
 ],
 "metadata": {
  "kernelspec": {
   "display_name": "Python 3 (ipykernel)",
   "language": "python",
   "name": "python3"
  },
  "language_info": {
   "codemirror_mode": {
    "name": "ipython",
    "version": 3
   },
   "file_extension": ".py",
   "mimetype": "text/x-python",
   "name": "python",
   "nbconvert_exporter": "python",
   "pygments_lexer": "ipython3",
   "version": "3.10.7"
  }
 },
 "nbformat": 4,
 "nbformat_minor": 5
}
