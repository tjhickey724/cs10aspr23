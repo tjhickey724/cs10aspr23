{
 "cells": [
  {
   "cell_type": "markdown",
   "id": "7454e890-46d9-4ebd-8b2e-9a4fb27d0494",
   "metadata": {},
   "source": [
    "# Python Classes and Object-Oriented Programming\n",
    "We show how to create user-defined objects in Python.\n",
    "\n",
    "## Intervals using Python Dictionaries\n",
    "Python classes are similar to dictionaries in that they allow us to\n",
    "group together several Python values and refer to them by names.\n",
    "Below we show how to create an \"interval\" object representing a range of\n",
    "values between a lo and a hi value. We'll first do it using a dictionary."
   ]
  },
  {
   "cell_type": "code",
   "execution_count": 10,
   "id": "08a8e130-ab5d-44c0-af42-9bd7f67edac9",
   "metadata": {
    "tags": []
   },
   "outputs": [
    {
     "name": "stdout",
     "output_type": "stream",
     "text": [
      "2 5 has width 3\n",
      "1.5 is not in {'lo': 2, 'hi': 5}\n",
      "3 is in {'lo': 2, 'hi': 5}\n"
     ]
    }
   ],
   "source": [
    "y = {'lo':2,'hi':5}\n",
    "\n",
    "def width(t):\n",
    "    return t['hi'] - t['lo']\n",
    "\n",
    "def contains(t,x):\n",
    "    ''' true if interval t contains the point x '''\n",
    "    return t['lo'] <= x <= t['hi']\n",
    "\n",
    "w = width(y)\n",
    "\n",
    "print(y['lo'], y['hi'],'has width', w)\n",
    "\n",
    "if contains(y,1.5):\n",
    "    print(1.5,'is in',y)\n",
    "else:\n",
    "    print(1.5,'is not in',y)\n",
    "    \n",
    "if contains(y,3):\n",
    "    print(3,'is in',y)\n",
    "else:\n",
    "    print(3,'is not in',y)"
   ]
  },
  {
   "cell_type": "markdown",
   "id": "0812ed7d-eaae-4804-87e1-e89cf5f7e539",
   "metadata": {},
   "source": [
    "## Intervals using Python classes\n",
    "Now we can write the same object using Python classes. \n",
    "This requires a different syntax for creating the object and for accessing its elements, and for calling its methods.\n",
    "\n",
    "### Defining an interval object using a Python class\n",
    "Here we show how to define an interval using Python classes"
   ]
  },
  {
   "cell_type": "code",
   "execution_count": 17,
   "id": "6801adff-9e1c-4d7b-9da2-0fa455e90a6e",
   "metadata": {
    "tags": []
   },
   "outputs": [],
   "source": [
    "class Interval():\n",
    "    def __init__(self,lo,hi):\n",
    "        self.lo = lo\n",
    "        self.hi = hi\n",
    "        \n",
    "    def __str__(self):\n",
    "        ''' this interval method converts the interval to a string for printing '''\n",
    "        return(f'[{self.lo},{self.hi}]')\n",
    "    \n",
    "    def width(self):\n",
    "        ''' this is an Interval method that returns the width '''\n",
    "        return self.hi - self.lo\n",
    "    \n",
    "    def contains(self,x):\n",
    "        ''' this interval method returns true if x is in the interval '''\n",
    "        return self.lo<=x<= self.hi\n",
    "\n"
   ]
  },
  {
   "cell_type": "markdown",
   "id": "109524f6-5ecf-461d-8bbe-667d6d109bb9",
   "metadata": {},
   "source": [
    "## Using an interval object\n",
    "Once we create an interval object, \n",
    "``` python\n",
    "x = Interval(1,2)\n",
    "```\n",
    "we can access its fields using the dot notation\n",
    "``` python\n",
    "print(x.lo, x.hi)\n",
    "```\n",
    "and we can invoke its methods also using the dot notation\n",
    "``` python\n",
    "w = x.width()\n",
    "if x.contains(1.5):\n",
    "    print('1.5 is in',x)\n",
    "else:\n",
    "    print('1.5 is not in',x)\n",
    "```"
   ]
  },
  {
   "cell_type": "code",
   "execution_count": 19,
   "id": "b137df69-0c5f-4565-983b-49cb705204d3",
   "metadata": {
    "tags": []
   },
   "outputs": [
    {
     "name": "stdout",
     "output_type": "stream",
     "text": [
      "[1,2] has width 1\n",
      "1.5 is in [1,2]\n"
     ]
    }
   ],
   "source": [
    "# Let's try it here\n",
    "x = Interval(1,2)\n",
    "\n",
    "print(x,'has width',x.width())\n",
    "\n",
    "\n",
    "if x.contains(1.5):\n",
    "    print(1.5,'is in',x)\n",
    "else:\n",
    "    print(1.5,'is not in',x)\n",
    "\n",
    "    "
   ]
  },
  {
   "cell_type": "markdown",
   "id": "bd5ea70b-80b0-4176-830f-fa14ad68f71a",
   "metadata": {},
   "source": [
    "## Methods vs Functions\n",
    "Notice that the Interval is defined with a \"class\" keyword\n",
    "and we access the fields lo and hi with x.lo and x.hi rather than\n",
    "y['lo'] and y['hi'] as we did with dictionaries.\n",
    "\n",
    "Likewise, with dictionaries we define functions width, and contains\n",
    "and call them by passing the dictionary as an argument\n",
    "``` python\n",
    "width(y)\n",
    "contains(y,1.5)\n",
    "```\n",
    "but with classes the object comes first:\n",
    "``` python\n",
    "x.width()\n",
    "x.contains(1.5)\n",
    "```\n",
    "We have already seen this difference in the math and string classes.\n",
    "The math package defines functions\n",
    "``` python\n",
    "math.cos(math.pi/2)\n",
    "```\n",
    "but with string objects we sometimes use functions,when tend to use methods\n",
    "``` python\n",
    "x = \"hello world\"\n",
    "print(len(x))\n",
    "```\n",
    "and sometimes use methods\n",
    "``` python\n",
    "print(x.upper())\n",
    "print(x.split())\n",
    "```\n",
    "\n"
   ]
  },
  {
   "cell_type": "markdown",
   "id": "9337b057-30a9-4cde-9aba-3e6956d9d8d4",
   "metadata": {
    "tags": []
   },
   "source": [
    "## Defining functions on intervals\n",
    "We can also define functions which operate on intervals,\n",
    "but methods are usually preferred."
   ]
  },
  {
   "cell_type": "code",
   "execution_count": null,
   "id": "62b0a97a-0da0-402a-8f20-d585f57ce7f4",
   "metadata": {},
   "outputs": [],
   "source": [
    "def print_interval(t):\n",
    "    ''' we can define functions on intervals as well as method'''\n",
    "    print(f'[{t.lo},{t.hi}]')\n",
    "\n",
    "print('here is the interval:',end=\" \")\n",
    "print_interval(x)"
   ]
  }
 ],
 "metadata": {
  "kernelspec": {
   "display_name": "Python 3 (ipykernel)",
   "language": "python",
   "name": "python3"
  },
  "language_info": {
   "codemirror_mode": {
    "name": "ipython",
    "version": 3
   },
   "file_extension": ".py",
   "mimetype": "text/x-python",
   "name": "python",
   "nbconvert_exporter": "python",
   "pygments_lexer": "ipython3",
   "version": "3.10.7"
  }
 },
 "nbformat": 4,
 "nbformat_minor": 5
}
