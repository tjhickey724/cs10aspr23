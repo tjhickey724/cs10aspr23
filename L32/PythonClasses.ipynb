{
 "cells": [
  {
   "cell_type": "markdown",
   "id": "7454e890-46d9-4ebd-8b2e-9a4fb27d0494",
   "metadata": {},
   "source": [
    "# Python Classes and Object-Oriented Programming\n",
    "We show how to create user-defined objects in Python.\n",
    "\n",
    "## Intervals using Python Dictionaries\n",
    "Python classes are similar to dictionaries in that they allow us to\n",
    "group together several Python values and refer to them by names.\n",
    "Below we show how to create an \"interval\" object representing a range of\n",
    "values between a lo and a hi value. We'll first do it using a dictionary."
   ]
  },
  {
   "cell_type": "code",
   "execution_count": 1,
   "id": "08a8e130-ab5d-44c0-af42-9bd7f67edac9",
   "metadata": {
    "tags": []
   },
   "outputs": [
    {
     "name": "stdout",
     "output_type": "stream",
     "text": [
      "2 5 has width 3\n",
      "1.5 is not in {'lo': 2, 'hi': 5}\n"
     ]
    }
   ],
   "source": [
    "'''\n",
    "Intervals using dictionaries\n",
    "'''\n",
    "\n",
    "def make_interval(a,b):\n",
    "    return {'lo':a, 'hi':b}\n",
    "\n",
    "def width(t):\n",
    "    return t['hi'] - t['lo']\n",
    "\n",
    "def contains(t,x):\n",
    "    ''' true if interval t contains the point x '''\n",
    "    return t['lo'] <= x <= t['hi']\n",
    "\n",
    "y = make_interval(2,5)\n",
    "#  same as y = {'lo':2,'hi':5}\n",
    "\n",
    "w = width(y)\n",
    "\n",
    "print(y['lo'], y['hi'],'has width', w)\n",
    "\n",
    "if contains(y,1.5):\n",
    "    print(1.5,'is in',y)\n",
    "else:\n",
    "    print(1.5,'is not in',y)\n",
    "    \n"
   ]
  },
  {
   "cell_type": "markdown",
   "id": "b1b7f967-e953-438d-b4ea-f1629b8aa8c8",
   "metadata": {},
   "source": [
    "Exercise: write a method add(x,y) which returns the sum of two intervals by adding the lo's and adding the hi's, e.g.\n",
    "``` python\n",
    "[1,5] + [7,10] = [8,15]\n",
    "```\n",
    "and test it with these two intervals..."
   ]
  },
  {
   "cell_type": "markdown",
   "id": "0812ed7d-eaae-4804-87e1-e89cf5f7e539",
   "metadata": {},
   "source": [
    "## Intervals using Python classes\n",
    "Now we can write the same object using Python classes. \n",
    "This requires a different syntax for creating the object and for accessing its elements, and for calling its methods.\n",
    "\n",
    "### Defining an interval object using a Python class\n",
    "Here we show how to define an interval using Python classes"
   ]
  },
  {
   "cell_type": "code",
   "execution_count": 6,
   "id": "6801adff-9e1c-4d7b-9da2-0fa455e90a6e",
   "metadata": {
    "tags": []
   },
   "outputs": [],
   "source": [
    "'''\n",
    "Intervals using Python classes\n",
    "'''\n",
    "\n",
    "class Interval():\n",
    "    def __init__(self,lo,hi):\n",
    "        self.lo = lo\n",
    "        self.hi = hi\n",
    "        \n",
    "    def __str__(self):\n",
    "        ''' converts the interval to a string '''\n",
    "        return(f'[{self.lo},{self.hi}]')\n",
    "    \n",
    "    def __eq__(self,other):\n",
    "        ''' test if this interval equals the other '''\n",
    "        return self.lo==other.lo and self.hi==other.hi\n",
    "    \n",
    "    def width(self):\n",
    "        ''' return the width of the interval '''\n",
    "        return self.hi - self.lo\n",
    "    \n",
    "    def contains(self,x):\n",
    "        ''' return true if x is in the interval '''\n",
    "        return self.lo<=x<= self.hi"
   ]
  },
  {
   "cell_type": "markdown",
   "id": "109524f6-5ecf-461d-8bbe-667d6d109bb9",
   "metadata": {},
   "source": [
    "## Using an interval object\n",
    "Once we create an interval object, \n",
    "``` python\n",
    "x = Interval(1,2)\n",
    "```\n",
    "we can access its fields using the dot notation\n",
    "``` python\n",
    "print(x.lo, x.hi)\n",
    "```\n",
    "and we can invoke its methods also using the dot notation\n",
    "``` python\n",
    "w = x.width()\n",
    "if x.contains(1.5):\n",
    "    print('1.5 is in',x)\n",
    "else:\n",
    "    print('1.5 is not in',x)\n",
    "```"
   ]
  },
  {
   "cell_type": "code",
   "execution_count": 11,
   "id": "b137df69-0c5f-4565-983b-49cb705204d3",
   "metadata": {
    "tags": []
   },
   "outputs": [
    {
     "name": "stdout",
     "output_type": "stream",
     "text": [
      "[1,2] has width 1\n",
      "1.5 is in [1,2]\n",
      "x= [1,2]\n",
      "y= [1,3]\n",
      "z= [1,2]\n",
      "x==y? False\n",
      "x==z? True\n"
     ]
    }
   ],
   "source": [
    "# Let's try working with Interval objects here\n",
    "x = Interval(1,2)\n",
    "\n",
    "print(x,'has width',x.width())\n",
    "\n",
    "\n",
    "if x.contains(1.5):\n",
    "    print(1.5,'is in',x)\n",
    "else:\n",
    "    print(1.5,'is not in',x)\n",
    "\n",
    "y = Interval(1,3)\n",
    "z = Interval(1,2)\n",
    "print('x=',x)\n",
    "print('y=',y)\n",
    "print('z=',z)\n",
    "print('x==y?',x==y)\n",
    "print('x==z?',x==z)"
   ]
  },
  {
   "cell_type": "markdown",
   "id": "7a954812-ca7d-4d47-bc7b-ad4ebff01c6c",
   "metadata": {},
   "source": []
  },
  {
   "cell_type": "markdown",
   "id": "bd5ea70b-80b0-4176-830f-fa14ad68f71a",
   "metadata": {},
   "source": [
    "## Methods vs Functions\n",
    "Notice that the Interval is defined with a \"class\" keyword\n",
    "and we access the fields lo and hi with x.lo and x.hi rather than\n",
    "y['lo'] and y['hi'] as we did with dictionaries.\n",
    "\n",
    "Likewise, with dictionaries we define functions width, and contains\n",
    "and call them by passing the dictionary as an argument\n",
    "``` python\n",
    "width(y)\n",
    "contains(y,1.5)\n",
    "```\n",
    "but with classes the object comes first:\n",
    "``` python\n",
    "x.width()\n",
    "x.contains(1.5)\n",
    "```\n",
    "We have already seen this difference in the math and string classes.\n",
    "The math package defines functions\n",
    "``` python\n",
    "math.cos(math.pi/2)\n",
    "```\n",
    "but with string objects we sometimes use functions,when tend to use methods\n",
    "``` python\n",
    "x = \"hello world\"\n",
    "print(len(x))\n",
    "```\n",
    "and sometimes use methods\n",
    "``` python\n",
    "print(x.upper())\n",
    "print(x.split())\n",
    "```\n",
    "\n"
   ]
  },
  {
   "cell_type": "markdown",
   "id": "9337b057-30a9-4cde-9aba-3e6956d9d8d4",
   "metadata": {
    "tags": []
   },
   "source": [
    "## Defining functions on intervals\n",
    "We can also define functions which operate on intervals,\n",
    "but methods are usually preferred."
   ]
  },
  {
   "cell_type": "code",
   "execution_count": 4,
   "id": "62b0a97a-0da0-402a-8f20-d585f57ce7f4",
   "metadata": {},
   "outputs": [
    {
     "name": "stdout",
     "output_type": "stream",
     "text": [
      "here is the interval: [1,2]\n"
     ]
    }
   ],
   "source": [
    "def print_interval(t):\n",
    "    ''' we can define functions on intervals as well as method'''\n",
    "    print(f'[{t.lo},{t.hi}]')\n",
    "\n",
    "print('here is the interval:',end=\" \")\n",
    "print_interval(x)"
   ]
  },
  {
   "cell_type": "code",
   "execution_count": null,
   "id": "3e97c694-99f4-48d7-81b4-89476db949f1",
   "metadata": {},
   "outputs": [],
   "source": []
  }
 ],
 "metadata": {
  "kernelspec": {
   "display_name": "Python 3 (ipykernel)",
   "language": "python",
   "name": "python3"
  },
  "language_info": {
   "codemirror_mode": {
    "name": "ipython",
    "version": 3
   },
   "file_extension": ".py",
   "mimetype": "text/x-python",
   "name": "python",
   "nbconvert_exporter": "python",
   "pygments_lexer": "ipython3",
   "version": "3.10.7"
  }
 },
 "nbformat": 4,
 "nbformat_minor": 5
}
