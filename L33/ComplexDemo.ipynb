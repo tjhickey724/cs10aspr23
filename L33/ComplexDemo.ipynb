{
 "cells": [
  {
   "cell_type": "code",
   "execution_count": null,
   "id": "4bd26c25-0822-4faa-972c-b360c699a4d8",
   "metadata": {},
   "outputs": [],
   "source": []
  },
  {
   "cell_type": "code",
   "execution_count": 1,
   "id": "503aa93a-eacc-4b76-bb56-f0a4402101e5",
   "metadata": {
    "tags": []
   },
   "outputs": [
    {
     "name": "stdout",
     "output_type": "stream",
     "text": [
      "x==y\n",
      "3.0\n",
      "-4.5\n",
      "3.0 + -4.5i\n"
     ]
    }
   ],
   "source": [
    "class Complex:\n",
    "    def __init__(self, realpart, imagpart):\n",
    "        self.r = realpart\n",
    "        self.i = imagpart\n",
    "    def __str__(self):\n",
    "        return f'{self.r} + {self.i}i'\n",
    "    def __eq__(self,other):\n",
    "        return self.r==other.r  and self.i==other.i\n",
    "\n",
    "\n",
    "x = Complex(3.0, -4.5)\n",
    "y = Complex(3.0,-4.5)\n",
    "if x==y:\n",
    "    print('x==y')\n",
    "else:\n",
    "    print('not equal')\n",
    "print(x.r)\n",
    "print(x.i)\n",
    "print(x)"
   ]
  },
  {
   "cell_type": "code",
   "execution_count": null,
   "id": "020b7992-e393-4231-a8af-5887b1a27dce",
   "metadata": {},
   "outputs": [],
   "source": []
  }
 ],
 "metadata": {
  "kernelspec": {
   "display_name": "Python 3 (ipykernel)",
   "language": "python",
   "name": "python3"
  },
  "language_info": {
   "codemirror_mode": {
    "name": "ipython",
    "version": 3
   },
   "file_extension": ".py",
   "mimetype": "text/x-python",
   "name": "python",
   "nbconvert_exporter": "python",
   "pygments_lexer": "ipython3",
   "version": "3.10.7"
  }
 },
 "nbformat": 4,
 "nbformat_minor": 5
}
