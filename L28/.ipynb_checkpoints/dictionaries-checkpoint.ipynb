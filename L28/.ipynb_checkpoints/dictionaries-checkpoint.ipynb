{
 "cells": [
  {
   "cell_type": "code",
   "execution_count": null,
   "id": "4909dfd8-7e52-48e0-bb66-69b0576f1b5a",
   "metadata": {},
   "outputs": [],
   "source": []
  },
  {
   "cell_type": "code",
   "execution_count": 2,
   "id": "4df3411d-9676-493b-9952-212918707220",
   "metadata": {
    "tags": []
   },
   "outputs": [
    {
     "data": {
      "text/plain": [
       "{'name': 'Tim', 'age': 67, 'eyecolor': 'green'}"
      ]
     },
     "execution_count": 2,
     "metadata": {},
     "output_type": "execute_result"
    }
   ],
   "source": [
    "d = {'name':'Tim', 'age':67, 'eyecolor':'green'}\n",
    "d"
   ]
  },
  {
   "cell_type": "code",
   "execution_count": 3,
   "id": "395f9fdc-0db4-4340-a36d-11662ca3810d",
   "metadata": {
    "tags": []
   },
   "outputs": [
    {
     "data": {
      "text/plain": [
       "67"
      ]
     },
     "execution_count": 3,
     "metadata": {},
     "output_type": "execute_result"
    }
   ],
   "source": [
    "d['age']"
   ]
  },
  {
   "cell_type": "code",
   "execution_count": 4,
   "id": "f88f7903-98c3-4f3f-ba7a-70df17233515",
   "metadata": {
    "tags": []
   },
   "outputs": [
    {
     "data": {
      "text/plain": [
       "{'name': 'Tim', 'age': 24, 'eyecolor': 'green'}"
      ]
     },
     "execution_count": 4,
     "metadata": {},
     "output_type": "execute_result"
    }
   ],
   "source": [
    "d['age']=24\n",
    "d"
   ]
  },
  {
   "cell_type": "code",
   "execution_count": 5,
   "id": "e2bdb89d-3ff0-4cc2-9c28-4a4bf0ecedad",
   "metadata": {
    "tags": []
   },
   "outputs": [
    {
     "data": {
      "text/plain": [
       "{'name': 'Tim', 'age': 64, 'eyecolor': 'green'}"
      ]
     },
     "execution_count": 5,
     "metadata": {},
     "output_type": "execute_result"
    }
   ],
   "source": [
    "d['age'] += 40\n",
    "d"
   ]
  },
  {
   "cell_type": "code",
   "execution_count": 8,
   "id": "1a7afb99-9881-4644-89ef-7f7dfb913e36",
   "metadata": {
    "tags": []
   },
   "outputs": [],
   "source": [
    "c1 = {'coursenum':'CS10a3', 'coursename':'Python','semester':'Spr23'}"
   ]
  },
  {
   "cell_type": "code",
   "execution_count": 9,
   "id": "6b621f07-2cdf-4ae0-b754-c4dba640346c",
   "metadata": {
    "tags": []
   },
   "outputs": [
    {
     "data": {
      "text/plain": [
       "{'coursenum': 'CS10a3', 'coursename': 'Python', 'semester': 'Spr23'}"
      ]
     },
     "execution_count": 9,
     "metadata": {},
     "output_type": "execute_result"
    }
   ],
   "source": [
    "c1"
   ]
  },
  {
   "cell_type": "code",
   "execution_count": 10,
   "id": "1cdfe0a5-f540-4e8f-ae53-9cf37718d9b1",
   "metadata": {
    "tags": []
   },
   "outputs": [],
   "source": [
    "c2 = {'coursenum' : 'CS10a3', 'coursename': 'Intro to Python', 'semester': 'Spr23'}"
   ]
  },
  {
   "cell_type": "code",
   "execution_count": 11,
   "id": "bfaa0fae-8d5f-4fcd-b3ef-52df3e9e513a",
   "metadata": {
    "tags": []
   },
   "outputs": [
    {
     "data": {
      "text/plain": [
       "{'coursenum': 'CS10a3', 'coursename': 'Intro to Python', 'semester': 'Spr23'}"
      ]
     },
     "execution_count": 11,
     "metadata": {},
     "output_type": "execute_result"
    }
   ],
   "source": [
    "c2"
   ]
  },
  {
   "cell_type": "code",
   "execution_count": 15,
   "id": "446f8af7-09d5-44d9-b2de-ec811c6a295e",
   "metadata": {
    "tags": []
   },
   "outputs": [
    {
     "data": {
      "text/plain": [
       "[{'coursenum': 'CS10a3', 'coursename': 'Intro to Python', 'semester': 'Spr23'},\n",
       " {'coursenum': 'PSYC33',\n",
       "  'coursename': 'Developmental Psych',\n",
       "  'semester': 'Fall22'},\n",
       " {'coursenum': 'PSYC36',\n",
       "  'coursename': 'Adolescence and Maturity',\n",
       "  'semester': 'Spr23'},\n",
       " {'coursenum': 'PSYC15',\n",
       "  'coursename': 'Biological Motivation',\n",
       "  'semester': 'Fall22'}]"
      ]
     },
     "execution_count": 15,
     "metadata": {},
     "output_type": "execute_result"
    }
   ],
   "source": [
    "myclasses=[\n",
    "    {'coursenum':'CS10a3',  'coursename':'Intro to Python',          'semester':'Spr23'}, \n",
    "    {'coursenum':'PSYC33',  'coursename':'Developmental Psych',      'semester':'Fall22'}, \n",
    "    {'coursenum':'PSYC36',  'coursename':'Adolescence and Maturity', 'semester':'Spr23'}, \n",
    "    {'coursenum':'PSYC15',  'coursename':'Biological Motivation',    'semester':'Fall22'}\n",
    "   ]\n",
    "myclasses"
   ]
  },
  {
   "cell_type": "code",
   "execution_count": 16,
   "id": "41754165-1fba-4d7f-86f3-7595b2d9cceb",
   "metadata": {
    "tags": []
   },
   "outputs": [],
   "source": [
    "myclasses = {\"Course1\":\"Cosi10A\",\n",
    "            \"Course2\":\"Math10A\",\n",
    "            \"Course3\":\"Bio15B\",\n",
    "            \"Course4\":\"Soc1A\"}"
   ]
  },
  {
   "cell_type": "code",
   "execution_count": 17,
   "id": "62fac0f0-296e-4381-a3da-dfd3a66ad685",
   "metadata": {
    "tags": []
   },
   "outputs": [
    {
     "data": {
      "text/plain": [
       "['Course1', 'Course2', 'Course3', 'Course4']"
      ]
     },
     "execution_count": 17,
     "metadata": {},
     "output_type": "execute_result"
    }
   ],
   "source": [
    "list(myclasses)"
   ]
  },
  {
   "cell_type": "code",
   "execution_count": 18,
   "id": "7d24983d-c4f2-47fe-9c16-055a720d1975",
   "metadata": {
    "tags": []
   },
   "outputs": [
    {
     "data": {
      "text/plain": [
       "'Math10A'"
      ]
     },
     "execution_count": 18,
     "metadata": {},
     "output_type": "execute_result"
    }
   ],
   "source": [
    "myclasses['Course2']"
   ]
  },
  {
   "cell_type": "code",
   "execution_count": 19,
   "id": "35bb60da-c614-49e7-9384-a5a798cb6130",
   "metadata": {
    "tags": []
   },
   "outputs": [
    {
     "name": "stdout",
     "output_type": "stream",
     "text": [
      "[{'coursenum': 'CS10a3', 'coursename': 'Intro to Python', 'semester': 'Spr23'}, {'coursenum': 'LING110a1', 'coursename': 'Phonology', 'semester': 'Spr23'}, {'coursenum': 'LING130a1', 'coursename': 'Intro to Formal Semantics', 'semester': 'Spr23'}, {'coursenum': 'LING197a1', 'coursename': 'Language Acquisition and Development', 'semester': 'Spr23'}]\n"
     ]
    }
   ],
   "source": [
    "courses2=[{'coursenum':'CS10a3',   'coursename':'Intro to Python',                   'semester':'Spr23'},\n",
    "          {'coursenum':'LING110a1','coursename':'Phonology',                          'semester':'Spr23'},\n",
    "          {'coursenum':'LING130a1','coursename':'Intro to Formal Semantics',           'semester':'Spr23'},\n",
    "          {'coursenum':'LING197a1','coursename':'Language Acquisition and Development','semester':'Spr23'}\n",
    "         ]\n",
    "print(courses2)"
   ]
  },
  {
   "cell_type": "code",
   "execution_count": 21,
   "id": "60479406-b035-4fb1-8b1e-361c98cd7f91",
   "metadata": {
    "tags": []
   },
   "outputs": [
    {
     "data": {
      "text/plain": [
       "[{'coursenum': 'CS10a3',\n",
       "  'coursename': 'Intro to Python',\n",
       "  'semester': 'Spring23'},\n",
       " {'coursenum': 'M', 'coursename': 'Math', 'semester': 'Fall22'},\n",
       " {'coursenum': 'H', 'coursename': 'History', 'semester': 'Spring23'},\n",
       " {'coursenum': 'A', 'coursename': 'Anthro', 'semester': 'Fall22'}]"
      ]
     },
     "execution_count": 21,
     "metadata": {},
     "output_type": "execute_result"
    }
   ],
   "source": [
    " myclasses3=[{'coursenum':'CS10a3', 'coursename':'Intro to Python', 'semester':'Spring23'},\n",
    "{'coursenum':'M', 'coursename':'Math', 'semester':'Fall22'},\n",
    "{'coursenum':'H', 'coursename':'History', 'semester':'Spring23'},\n",
    "{'coursenum':'A', 'coursename':'Anthro', 'semester':'Fall22'}]\n",
    "myclasses3"
   ]
  },
  {
   "cell_type": "code",
   "execution_count": 25,
   "id": "f0f30b08-4009-4bb5-9917-61830fc8fd0e",
   "metadata": {
    "tags": []
   },
   "outputs": [
    {
     "name": "stdout",
     "output_type": "stream",
     "text": [
      "Intro to Python,Phonology,Intro to Formal Semantics,Language Acquisition and Development,"
     ]
    }
   ],
   "source": [
    "for theclass in courses2:\n",
    "    print(theclass['coursename'],end=\",\")\n"
   ]
  },
  {
   "cell_type": "code",
   "execution_count": 27,
   "id": "b3fc6c1a-e1cf-4529-bcd5-026e4fd1344c",
   "metadata": {
    "tags": []
   },
   "outputs": [
    {
     "name": "stdout",
     "output_type": "stream",
     "text": [
      "CS10 Python\n",
      "Fren10 French\n",
      "BUS130 Business\n",
      "BUS153 Business\n"
     ]
    }
   ],
   "source": [
    "my_class={\n",
    "    'coursenum':['CS10','Fren10','BUS130','BUS153'],\n",
    "    'coursename':['Python','French','Business','Business'],\n",
    "   }\n",
    "for i in range(4):\n",
    "    print(my_class['coursenum'][i], my_class['coursename'][i])"
   ]
  },
  {
   "cell_type": "code",
   "execution_count": 29,
   "id": "a93ef4cb-d119-461a-b43c-73f73697a38b",
   "metadata": {
    "tags": []
   },
   "outputs": [
    {
     "name": "stdout",
     "output_type": "stream",
     "text": [
      "CS10a3 Intro to Python\n",
      "LING110a1 Phonology\n",
      "LING130a1 Intro to Formal Semantics\n",
      "LING197a1 Language Acquisition and Development\n"
     ]
    }
   ],
   "source": [
    "for theclass in courses2:\n",
    "    print(theclass['coursenum'],theclass['coursename'])"
   ]
  },
  {
   "cell_type": "code",
   "execution_count": 32,
   "id": "268f23c3-d88d-4719-9e3a-974b46e3adcc",
   "metadata": {
    "tags": []
   },
   "outputs": [
    {
     "name": "stdout",
     "output_type": "stream",
     "text": [
      "{'coursenum': 'CS10a3', 'coursename': 'Intro to Python', 'semester': 'Sp23'}\n",
      "{'coursenum': 'ED100b', 'coursename': 'Intro to Secondary Education', 'semester': 'Sp23'}\n",
      "{'coursenum': 'MATH10b2', 'coursename': 'Techniques of Calculus', 'semester': 'Sp23'}\n",
      "{'coursenum': 'FREN32a', 'coursename': 'Intermediate French Conversation', 'semester': 'Sp23'}\n"
     ]
    }
   ],
   "source": [
    "myclasses4 = [ {'coursenum':'CS10a3',   'coursename': 'Intro to Python',                  'semester': 'Sp23'},\n",
    "              {'coursenum':'ED100b',   'coursename': 'Intro to Secondary Education',     'semester': 'Sp23'},\n",
    "              {'coursenum':'MATH10b2', 'coursename': 'Techniques of Calculus',           'semester': 'Sp23'},\n",
    "              {'coursenum':'FREN32a',  'coursename': 'Intermediate French Conversation', 'semester': 'Sp23'},]\n",
    "for c in myclasses4:\n",
    "    print(c)"
   ]
  },
  {
   "cell_type": "code",
   "execution_count": 33,
   "id": "e01b803e-044e-429c-8ef4-3cec9a1b4041",
   "metadata": {
    "tags": []
   },
   "outputs": [
    {
     "data": {
      "text/plain": [
       "[{'coursenum': 'ling110', 'coursename': 'phonology I', 'semester': 'Spr23'},\n",
       " {'coursenum': 'ling130',\n",
       "  'coursename': 'introduction to formal semantics',\n",
       "  'semester': 'Spr23'},\n",
       " {'coursenum': 'japn20b',\n",
       "  'coursename': 'continuing Japanese',\n",
       "  'semester': 'Spr23'},\n",
       " {'coursenum': 'uws33a', 'coursename': 'dystopia world', 'semester': 'Spr23'}]"
      ]
     },
     "execution_count": 33,
     "metadata": {},
     "output_type": "execute_result"
    }
   ],
   "source": [
    "course1 = { \"coursenum\" : \"ling110\" , \"coursename\" : \"phonology I\" , \"semester\" : \"Spr23\"}\n",
    "course2 = { \"coursenum\" : \"ling130\" , \"coursename\" : \"introduction to formal semantics\" , \"semester\" : \"Spr23\"}\n",
    "course3 = { \"coursenum\" : \"japn20b\" , \"coursename\" : \"continuing Japanese\" , \"semester\" : \"Spr23\"}\n",
    "course4 = { \"coursenum\" : \"uws33a\" , \"coursename\" : \"dystopia world\" , \"semester\" : \"Spr23\"}\n",
    "myclasses5 = [course1 ,course2,course3,course4]\n",
    "myclasses5"
   ]
  },
  {
   "cell_type": "code",
   "execution_count": null,
   "id": "55ce4712-b57c-4da0-b927-eccab8803b81",
   "metadata": {},
   "outputs": [],
   "source": []
  },
  {
   "cell_type": "code",
   "execution_count": null,
   "id": "5dfc29b9-a34e-421d-a895-dbb894aeb6d6",
   "metadata": {},
   "outputs": [],
   "source": []
  }
 ],
 "metadata": {
  "kernelspec": {
   "display_name": "Python 3 (ipykernel)",
   "language": "python",
   "name": "python3"
  },
  "language_info": {
   "codemirror_mode": {
    "name": "ipython",
    "version": 3
   },
   "file_extension": ".py",
   "mimetype": "text/x-python",
   "name": "python",
   "nbconvert_exporter": "python",
   "pygments_lexer": "ipython3",
   "version": "3.10.7"
  }
 },
 "nbformat": 4,
 "nbformat_minor": 5
}
