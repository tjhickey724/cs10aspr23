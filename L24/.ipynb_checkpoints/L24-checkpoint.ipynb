{
 "cells": [
  {
   "cell_type": "markdown",
   "id": "7cf4f75a-5696-4efe-8381-ae6fd1734af5",
   "metadata": {},
   "source": [
    "# Lesson 24\n",
    "Comprehensions\n",
    "Lesson notes for Mon March 20th, 2023\n",
    "Going over concepts in Chapter 12 slides"
   ]
  },
  {
   "cell_type": "code",
   "execution_count": 1,
   "id": "0583c14c-6511-4ced-b256-ac6a2cc2d7c3",
   "metadata": {
    "tags": []
   },
   "outputs": [
    {
     "data": {
      "text/plain": [
       "[6, 12, 15]"
      ]
     },
     "execution_count": 1,
     "metadata": {},
     "output_type": "execute_result"
    }
   ],
   "source": [
    "vec = [2,4,5]\n",
    "result = [3*x for x in vec]\n",
    "result"
   ]
  },
  {
   "cell_type": "code",
   "execution_count": 2,
   "id": "f5c2d87e-1755-46b2-aec9-634087f529f9",
   "metadata": {
    "tags": []
   },
   "outputs": [
    {
     "data": {
      "text/plain": [
       "[12, 15]"
      ]
     },
     "execution_count": 2,
     "metadata": {},
     "output_type": "execute_result"
    }
   ],
   "source": [
    "vec = [2,4,5]\n",
    "result = [3*x for x in vec if x>3]\n",
    "result"
   ]
  },
  {
   "cell_type": "code",
   "execution_count": 3,
   "id": "cb07fcee-8409-4060-bc42-7c25b0fe3858",
   "metadata": {
    "tags": []
   },
   "outputs": [
    {
     "data": {
      "text/plain": [
       "[]"
      ]
     },
     "execution_count": 3,
     "metadata": {},
     "output_type": "execute_result"
    }
   ],
   "source": [
    "vec = [2,4,5]\n",
    "result = [3*x for x in vec if x<2]\n",
    "result"
   ]
  },
  {
   "cell_type": "code",
   "execution_count": 4,
   "id": "7a858932-cefb-4483-8fde-6d431a3696df",
   "metadata": {
    "tags": []
   },
   "outputs": [
    {
     "data": {
      "text/plain": [
       "[12, 21, 30, 39, 48, 57, 66, 75, 84]"
      ]
     },
     "execution_count": 4,
     "metadata": {},
     "output_type": "execute_result"
    }
   ],
   "source": [
    "def mult_by_3(vec):\n",
    "    result = [3*x for x in vec if x>3]\n",
    "    return result\n",
    "mult_by_3(range(1,30,3))"
   ]
  },
  {
   "cell_type": "code",
   "execution_count": 5,
   "id": "7058d57d-a88b-44b4-af96-913a572b48c2",
   "metadata": {
    "tags": []
   },
   "outputs": [
    {
     "data": {
      "text/plain": [
       "[1, 4, 7, 10, 13, 16, 19, 22, 25, 28]"
      ]
     },
     "execution_count": 5,
     "metadata": {},
     "output_type": "execute_result"
    }
   ],
   "source": [
    "list(range(1,30,3))"
   ]
  },
  {
   "cell_type": "code",
   "execution_count": 7,
   "id": "dc75621f-6bab-48c3-b6c9-a3621a010e43",
   "metadata": {
    "tags": []
   },
   "outputs": [
    {
     "data": {
      "text/plain": [
       "[12, 21, 30, 39, 48, 57, 66, 75, 84]"
      ]
     },
     "execution_count": 7,
     "metadata": {},
     "output_type": "execute_result"
    }
   ],
   "source": [
    "def mult_by_3_a(vec):\n",
    "    result = []\n",
    "    for x in vec:\n",
    "        if x > 3:\n",
    "            expr = 3*x\n",
    "            result.append(expr)\n",
    "    return result\n",
    "mult_by_3_a(range(1,30,3))\n",
    "            "
   ]
  },
  {
   "cell_type": "markdown",
   "id": "745449b5-95b6-45fc-bebd-9332f2d49e41",
   "metadata": {},
   "source": [
    "# Long words\n",
    "Here we show how to use list comprehensions\n",
    "to filter a list, i.e. generate a sublist\n",
    "containing only selected elements of the original list\n"
   ]
  },
  {
   "cell_type": "code",
   "execution_count": 8,
   "id": "09e5b554-c337-434e-8257-1c033e51eee6",
   "metadata": {
    "tags": []
   },
   "outputs": [
    {
     "data": {
      "text/plain": [
       "['Two', 'roads', 'diverged', 'in', 'a', 'yellow', 'wood']"
      ]
     },
     "execution_count": 8,
     "metadata": {},
     "output_type": "execute_result"
    }
   ],
   "source": [
    "words = \"Two roads diverged in a yellow wood\".split()\n",
    "words"
   ]
  },
  {
   "cell_type": "code",
   "execution_count": 9,
   "id": "99c9081f-bebf-4b64-b227-c6c7b4bb2984",
   "metadata": {
    "tags": []
   },
   "outputs": [
    {
     "data": {
      "text/plain": [
       "['Two', 'Roads', 'Diverged', 'In', 'A', 'Yellow', 'Wood']"
      ]
     },
     "execution_count": 9,
     "metadata": {},
     "output_type": "execute_result"
    }
   ],
   "source": [
    "[word[0].upper() + word[1:].lower() for word in words]"
   ]
  },
  {
   "cell_type": "code",
   "execution_count": 10,
   "id": "1f2e2633-0fc4-4a6b-a855-77d7713db3a5",
   "metadata": {
    "tags": []
   },
   "outputs": [],
   "source": [
    "def long_words(words,n):\n",
    "    return [word for word in words if len(word)>=n]"
   ]
  },
  {
   "cell_type": "code",
   "execution_count": null,
   "id": "204fa902-151f-4204-8bcc-2e84f4912cd1",
   "metadata": {},
   "outputs": [],
   "source": []
  },
  {
   "cell_type": "code",
   "execution_count": 11,
   "id": "49455c3c-1cd2-40a8-8bdc-66afa75ac20c",
   "metadata": {
    "tags": []
   },
   "outputs": [
    {
     "data": {
      "text/plain": [
       "['roads', 'diverged', 'yellow', 'wood']"
      ]
     },
     "execution_count": 11,
     "metadata": {},
     "output_type": "execute_result"
    }
   ],
   "source": [
    "long_words(words,4)"
   ]
  },
  {
   "cell_type": "code",
   "execution_count": 12,
   "id": "958ea289-476e-4376-ac4f-385edb86884b",
   "metadata": {
    "tags": []
   },
   "outputs": [
    {
     "name": "stdout",
     "output_type": "stream",
     "text": [
      "['roads', 'diverged', 'yellow', 'wood']\n"
     ]
    }
   ],
   "source": [
    "def long_words_2(words, n):\n",
    "    new_list = []\n",
    "    for word in words:\n",
    "        if len(word) >= n:\n",
    "            new_list.append(word)\n",
    "    return new_list\n",
    "words = ['Two', 'roads', 'diverged', 'in', 'a', 'yellow', 'wood']\n",
    "n = 4\n",
    "print(long_words_2(words, n))"
   ]
  },
  {
   "cell_type": "markdown",
   "id": "1d52305a-437b-4ba1-be90-1d821ab3672f",
   "metadata": {},
   "source": [
    "# Word lengths"
   ]
  },
  {
   "cell_type": "code",
   "execution_count": 16,
   "id": "3c920a1e-4298-4844-9e2b-9324fbcbddc8",
   "metadata": {
    "tags": []
   },
   "outputs": [
    {
     "name": "stdout",
     "output_type": "stream",
     "text": [
      "['Two', 'roads', 'diverged', 'in', 'a', 'yellow', 'wood']\n",
      "[3, 5, 8, 2, 1, 6, 4]\n"
     ]
    }
   ],
   "source": [
    "def word_lengths(words):\n",
    "    return [len(x) for x in words]\n",
    "print(words)\n",
    "print(word_lengths(words))"
   ]
  },
  {
   "cell_type": "code",
   "execution_count": 15,
   "id": "4877c133-7a46-43f1-81a8-d539eb54e5fa",
   "metadata": {
    "tags": []
   },
   "outputs": [
    {
     "data": {
      "text/plain": [
       "[3, 5, 8, 2, 1, 6, 4]"
      ]
     },
     "execution_count": 15,
     "metadata": {},
     "output_type": "execute_result"
    }
   ],
   "source": [
    "def word_lengths(words):\n",
    "    result = []\n",
    "    for word in words:\n",
    "        result.append(len(word))\n",
    "    return result\n",
    "word_lengths(words)"
   ]
  },
  {
   "cell_type": "markdown",
   "id": "f581a77b-8f0c-46ff-bc77-6dcaaee2bbd4",
   "metadata": {},
   "source": [
    "# filtering and mapping\n",
    "abbreviate"
   ]
  },
  {
   "cell_type": "code",
   "execution_count": 20,
   "id": "d36795e4-dcfb-474e-8a4b-9b3c433e7360",
   "metadata": {
    "tags": []
   },
   "outputs": [
    {
     "data": {
      "text/plain": [
       "['roa', 'div', 'yel', 'woo']"
      ]
     },
     "execution_count": 20,
     "metadata": {},
     "output_type": "execute_result"
    }
   ],
   "source": [
    "def abbreviate(words):\n",
    "    result=[x for x in words if len(x)>=4] # filter out only long words\n",
    "    result1=[y[:3] for y in result] # map by abbreviating each of those long words\n",
    "    return result1\n",
    "abbreviate(words)"
   ]
  },
  {
   "cell_type": "code",
   "execution_count": 18,
   "id": "c49c4f71-0af2-431e-916b-d42c8ba00c96",
   "metadata": {
    "tags": []
   },
   "outputs": [
    {
     "data": {
      "text/plain": [
       "['roa', 'div', 'yel', 'woo']"
      ]
     },
     "execution_count": 18,
     "metadata": {},
     "output_type": "execute_result"
    }
   ],
   "source": [
    "def abbreviate2(words):\n",
    "    return [word[:3] for word in words if len(word) >= 4]\n",
    "abbreviate2(words)"
   ]
  },
  {
   "cell_type": "code",
   "execution_count": null,
   "id": "f601c948-b05f-4613-84cb-ffa6657fd134",
   "metadata": {},
   "outputs": [],
   "source": []
  }
 ],
 "metadata": {
  "kernelspec": {
   "display_name": "Python 3 (ipykernel)",
   "language": "python",
   "name": "python3"
  },
  "language_info": {
   "codemirror_mode": {
    "name": "ipython",
    "version": 3
   },
   "file_extension": ".py",
   "mimetype": "text/x-python",
   "name": "python",
   "nbconvert_exporter": "python",
   "pygments_lexer": "ipython3",
   "version": "3.10.7"
  }
 },
 "nbformat": 4,
 "nbformat_minor": 5
}
